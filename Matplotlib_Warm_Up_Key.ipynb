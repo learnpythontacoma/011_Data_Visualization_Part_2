{
 "cells": [
  {
   "cell_type": "markdown",
   "metadata": {},
   "source": [
    "<img src='graphics/Oktoberfest.jpg'>\n",
    "\n",
    "# Matplotlib Practice Exercises\n",
    "\n",
    "In the next block, \n",
    "1. Import our Pandas library\n",
    "1. Import 'data/oktoberfest_english.csv' to a DataFrame\n",
    "1. Check the shape of the DataFrame\n",
    "1. Check the first five rows of our DataFrame"
   ]
  },
  {
   "cell_type": "code",
   "execution_count": 8,
   "metadata": {
    "ExecuteTime": {
     "end_time": "2020-09-13T19:20:19.703161Z",
     "start_time": "2020-09-13T19:20:19.686192Z"
    },
    "hide_input": false,
    "scrolled": true
   },
   "outputs": [
    {
     "name": "stdout",
     "output_type": "stream",
     "text": [
      "(34, 8)\n"
     ]
    },
    {
     "data": {
      "text/html": [
       "<div>\n",
       "<style scoped>\n",
       "    .dataframe tbody tr th:only-of-type {\n",
       "        vertical-align: middle;\n",
       "    }\n",
       "\n",
       "    .dataframe tbody tr th {\n",
       "        vertical-align: top;\n",
       "    }\n",
       "\n",
       "    .dataframe thead th {\n",
       "        text-align: right;\n",
       "    }\n",
       "</style>\n",
       "<table border=\"1\" class=\"dataframe\">\n",
       "  <thead>\n",
       "    <tr style=\"text-align: right;\">\n",
       "      <th></th>\n",
       "      <th>year</th>\n",
       "      <th>duration</th>\n",
       "      <th>total_visitors</th>\n",
       "      <th>total_daily_visitors</th>\n",
       "      <th>beer_price</th>\n",
       "      <th>beer_consumed</th>\n",
       "      <th>chicken_price</th>\n",
       "      <th>chickens_consumed</th>\n",
       "    </tr>\n",
       "  </thead>\n",
       "  <tbody>\n",
       "    <tr>\n",
       "      <th>0</th>\n",
       "      <td>1985</td>\n",
       "      <td>16</td>\n",
       "      <td>7.1</td>\n",
       "      <td>444</td>\n",
       "      <td>3.20</td>\n",
       "      <td>54541</td>\n",
       "      <td>4.77</td>\n",
       "      <td>629520</td>\n",
       "    </tr>\n",
       "    <tr>\n",
       "      <th>1</th>\n",
       "      <td>1986</td>\n",
       "      <td>16</td>\n",
       "      <td>6.7</td>\n",
       "      <td>419</td>\n",
       "      <td>3.30</td>\n",
       "      <td>53807</td>\n",
       "      <td>3.92</td>\n",
       "      <td>698137</td>\n",
       "    </tr>\n",
       "    <tr>\n",
       "      <th>2</th>\n",
       "      <td>1987</td>\n",
       "      <td>16</td>\n",
       "      <td>6.5</td>\n",
       "      <td>406</td>\n",
       "      <td>3.37</td>\n",
       "      <td>51842</td>\n",
       "      <td>3.98</td>\n",
       "      <td>732859</td>\n",
       "    </tr>\n",
       "    <tr>\n",
       "      <th>3</th>\n",
       "      <td>1988</td>\n",
       "      <td>16</td>\n",
       "      <td>5.7</td>\n",
       "      <td>356</td>\n",
       "      <td>3.45</td>\n",
       "      <td>50951</td>\n",
       "      <td>4.19</td>\n",
       "      <td>720139</td>\n",
       "    </tr>\n",
       "    <tr>\n",
       "      <th>4</th>\n",
       "      <td>1989</td>\n",
       "      <td>16</td>\n",
       "      <td>6.2</td>\n",
       "      <td>388</td>\n",
       "      <td>3.60</td>\n",
       "      <td>51241</td>\n",
       "      <td>4.22</td>\n",
       "      <td>775674</td>\n",
       "    </tr>\n",
       "  </tbody>\n",
       "</table>\n",
       "</div>"
      ],
      "text/plain": [
       "   year  duration  total_visitors  total_daily_visitors  beer_price  \\\n",
       "0  1985        16             7.1                   444        3.20   \n",
       "1  1986        16             6.7                   419        3.30   \n",
       "2  1987        16             6.5                   406        3.37   \n",
       "3  1988        16             5.7                   356        3.45   \n",
       "4  1989        16             6.2                   388        3.60   \n",
       "\n",
       "   beer_consumed  chicken_price  chickens_consumed  \n",
       "0          54541           4.77             629520  \n",
       "1          53807           3.92             698137  \n",
       "2          51842           3.98             732859  \n",
       "3          50951           4.19             720139  \n",
       "4          51241           4.22             775674  "
      ]
     },
     "execution_count": 8,
     "metadata": {},
     "output_type": "execute_result"
    }
   ],
   "source": [
    "import pandas as pd\n",
    "import matplotlib.pyplot as plt\n",
    "\n",
    "%matplotlib inline\n",
    "\n",
    "df = pd.read_csv('data/oktoberfest_english.csv')\n",
    "\n",
    "print(df.shape)\n",
    "\n",
    "df.head()"
   ]
  },
  {
   "cell_type": "code",
   "execution_count": 2,
   "metadata": {
    "ExecuteTime": {
     "end_time": "2020-09-13T19:15:14.166435Z",
     "start_time": "2020-09-13T19:15:14.137661Z"
    },
    "hide_input": false
   },
   "outputs": [
    {
     "data": {
      "text/html": [
       "<div>\n",
       "<style scoped>\n",
       "    .dataframe tbody tr th:only-of-type {\n",
       "        vertical-align: middle;\n",
       "    }\n",
       "\n",
       "    .dataframe tbody tr th {\n",
       "        vertical-align: top;\n",
       "    }\n",
       "\n",
       "    .dataframe thead th {\n",
       "        text-align: right;\n",
       "    }\n",
       "</style>\n",
       "<table border=\"1\" class=\"dataframe\">\n",
       "  <thead>\n",
       "    <tr style=\"text-align: right;\">\n",
       "      <th></th>\n",
       "      <th>year</th>\n",
       "      <th>duration</th>\n",
       "      <th>total_visitors</th>\n",
       "      <th>total_daily_visitors</th>\n",
       "      <th>beer_price</th>\n",
       "      <th>beer_consumed</th>\n",
       "      <th>chicken_price</th>\n",
       "      <th>chickens_consumed</th>\n",
       "    </tr>\n",
       "  </thead>\n",
       "  <tbody>\n",
       "    <tr>\n",
       "      <th>0</th>\n",
       "      <td>1985</td>\n",
       "      <td>16</td>\n",
       "      <td>7.1</td>\n",
       "      <td>44400</td>\n",
       "      <td>3.20</td>\n",
       "      <td>54541</td>\n",
       "      <td>4.77</td>\n",
       "      <td>629520</td>\n",
       "    </tr>\n",
       "    <tr>\n",
       "      <th>1</th>\n",
       "      <td>1986</td>\n",
       "      <td>16</td>\n",
       "      <td>6.7</td>\n",
       "      <td>41900</td>\n",
       "      <td>3.30</td>\n",
       "      <td>53807</td>\n",
       "      <td>3.92</td>\n",
       "      <td>698137</td>\n",
       "    </tr>\n",
       "    <tr>\n",
       "      <th>2</th>\n",
       "      <td>1987</td>\n",
       "      <td>16</td>\n",
       "      <td>6.5</td>\n",
       "      <td>40600</td>\n",
       "      <td>3.37</td>\n",
       "      <td>51842</td>\n",
       "      <td>3.98</td>\n",
       "      <td>732859</td>\n",
       "    </tr>\n",
       "    <tr>\n",
       "      <th>3</th>\n",
       "      <td>1988</td>\n",
       "      <td>16</td>\n",
       "      <td>5.7</td>\n",
       "      <td>35600</td>\n",
       "      <td>3.45</td>\n",
       "      <td>50951</td>\n",
       "      <td>4.19</td>\n",
       "      <td>720139</td>\n",
       "    </tr>\n",
       "    <tr>\n",
       "      <th>4</th>\n",
       "      <td>1989</td>\n",
       "      <td>16</td>\n",
       "      <td>6.2</td>\n",
       "      <td>38800</td>\n",
       "      <td>3.60</td>\n",
       "      <td>51241</td>\n",
       "      <td>4.22</td>\n",
       "      <td>775674</td>\n",
       "    </tr>\n",
       "  </tbody>\n",
       "</table>\n",
       "</div>"
      ],
      "text/plain": [
       "   year  duration  total_visitors  total_daily_visitors  beer_price  \\\n",
       "0  1985        16             7.1                 44400        3.20   \n",
       "1  1986        16             6.7                 41900        3.30   \n",
       "2  1987        16             6.5                 40600        3.37   \n",
       "3  1988        16             5.7                 35600        3.45   \n",
       "4  1989        16             6.2                 38800        3.60   \n",
       "\n",
       "   beer_consumed  chicken_price  chickens_consumed  \n",
       "0          54541           4.77             629520  \n",
       "1          53807           3.92             698137  \n",
       "2          51842           3.98             732859  \n",
       "3          50951           4.19             720139  \n",
       "4          51241           4.22             775674  "
      ]
     },
     "execution_count": 2,
     "metadata": {},
     "output_type": "execute_result"
    }
   ],
   "source": [
    "for i in range(len(df.year)):\n",
    "    df.loc[i, 'total_daily_visitors'] = df.loc[i, 'total_daily_visitors']*100\n",
    "        \n",
    "df.head()"
   ]
  },
  {
   "cell_type": "code",
   "execution_count": 9,
   "metadata": {
    "ExecuteTime": {
     "end_time": "2020-09-13T19:20:27.588425Z",
     "start_time": "2020-09-13T19:20:27.571470Z"
    }
   },
   "outputs": [
    {
     "data": {
      "text/html": [
       "<div>\n",
       "<style scoped>\n",
       "    .dataframe tbody tr th:only-of-type {\n",
       "        vertical-align: middle;\n",
       "    }\n",
       "\n",
       "    .dataframe tbody tr th {\n",
       "        vertical-align: top;\n",
       "    }\n",
       "\n",
       "    .dataframe thead th {\n",
       "        text-align: right;\n",
       "    }\n",
       "</style>\n",
       "<table border=\"1\" class=\"dataframe\">\n",
       "  <thead>\n",
       "    <tr style=\"text-align: right;\">\n",
       "      <th></th>\n",
       "      <th>year</th>\n",
       "      <th>duration</th>\n",
       "      <th>total_visitors</th>\n",
       "      <th>total_daily_visitors</th>\n",
       "      <th>beer_price</th>\n",
       "      <th>beer_consumed</th>\n",
       "      <th>chicken_price</th>\n",
       "      <th>chickens_consumed</th>\n",
       "    </tr>\n",
       "  </thead>\n",
       "  <tbody>\n",
       "    <tr>\n",
       "      <th>0</th>\n",
       "      <td>1985</td>\n",
       "      <td>16</td>\n",
       "      <td>7.1</td>\n",
       "      <td>44400</td>\n",
       "      <td>3.20</td>\n",
       "      <td>54541</td>\n",
       "      <td>4.77</td>\n",
       "      <td>629520</td>\n",
       "    </tr>\n",
       "    <tr>\n",
       "      <th>1</th>\n",
       "      <td>1986</td>\n",
       "      <td>16</td>\n",
       "      <td>6.7</td>\n",
       "      <td>41900</td>\n",
       "      <td>3.30</td>\n",
       "      <td>53807</td>\n",
       "      <td>3.92</td>\n",
       "      <td>698137</td>\n",
       "    </tr>\n",
       "    <tr>\n",
       "      <th>2</th>\n",
       "      <td>1987</td>\n",
       "      <td>16</td>\n",
       "      <td>6.5</td>\n",
       "      <td>40600</td>\n",
       "      <td>3.37</td>\n",
       "      <td>51842</td>\n",
       "      <td>3.98</td>\n",
       "      <td>732859</td>\n",
       "    </tr>\n",
       "    <tr>\n",
       "      <th>3</th>\n",
       "      <td>1988</td>\n",
       "      <td>16</td>\n",
       "      <td>5.7</td>\n",
       "      <td>35600</td>\n",
       "      <td>3.45</td>\n",
       "      <td>50951</td>\n",
       "      <td>4.19</td>\n",
       "      <td>720139</td>\n",
       "    </tr>\n",
       "    <tr>\n",
       "      <th>4</th>\n",
       "      <td>1989</td>\n",
       "      <td>16</td>\n",
       "      <td>6.2</td>\n",
       "      <td>38800</td>\n",
       "      <td>3.60</td>\n",
       "      <td>51241</td>\n",
       "      <td>4.22</td>\n",
       "      <td>775674</td>\n",
       "    </tr>\n",
       "  </tbody>\n",
       "</table>\n",
       "</div>"
      ],
      "text/plain": [
       "   year  duration  total_visitors  total_daily_visitors  beer_price  \\\n",
       "0  1985        16             7.1                 44400        3.20   \n",
       "1  1986        16             6.7                 41900        3.30   \n",
       "2  1987        16             6.5                 40600        3.37   \n",
       "3  1988        16             5.7                 35600        3.45   \n",
       "4  1989        16             6.2                 38800        3.60   \n",
       "\n",
       "   beer_consumed  chicken_price  chickens_consumed  \n",
       "0          54541           4.77             629520  \n",
       "1          53807           3.92             698137  \n",
       "2          51842           3.98             732859  \n",
       "3          50951           4.19             720139  \n",
       "4          51241           4.22             775674  "
      ]
     },
     "execution_count": 9,
     "metadata": {},
     "output_type": "execute_result"
    }
   ],
   "source": [
    "df['total_daily_visitors'] = df['total_daily_visitors']*100\n",
    "\n",
    "df.head()"
   ]
  },
  {
   "cell_type": "markdown",
   "metadata": {
    "ExecuteTime": {
     "end_time": "2020-01-18T20:32:37.226636Z",
     "start_time": "2020-01-18T20:32:37.223535Z"
    }
   },
   "source": [
    "# Exercise 1: Simple Line Chart\n",
    "\n",
    "Using the oktoberfest_english.csv data that you just loaded, \n",
    "1. Make a simple line plot\n",
    "1. x = year\n",
    "1. y = chickens consumed\n",
    "1. Add appropriate main and axes titles"
   ]
  },
  {
   "cell_type": "code",
   "execution_count": 11,
   "metadata": {
    "ExecuteTime": {
     "end_time": "2020-09-13T19:29:17.864150Z",
     "start_time": "2020-09-13T19:29:17.720507Z"
    },
    "hide_input": false
   },
   "outputs": [
    {
     "data": {
      "image/png": "[encoded data removed]",
      "text/plain": [
       "<Figure size 432x288 with 1 Axes>"
      ]
     },
     "metadata": {
      "needs_background": "light"
     },
     "output_type": "display_data"
    }
   ],
   "source": [
    "plt.plot(df.year, df.chickens_consumed)\n",
    "# or\n",
    "# plt.plot(df['year'], df['chickens_consumed'])\n",
    "\n",
    "plt.title('Total Chickens Consumed per Year')\n",
    "plt.xlabel('Year')\n",
    "plt.ylabel('Chickens Consumed')\n",
    "\n",
    "plt.show()"
   ]
  },
  {
   "cell_type": "markdown",
   "metadata": {},
   "source": [
    "# Exercise 2: Making it Pretty\n",
    "\n",
    "Using the same Oktoberfest data, \n",
    "1. Make a line plot\n",
    "1. x = year\n",
    "1. y = beer consumed & daily visitor count\n",
    "1. Add appropriate main and axes titles (make the titles blue)\n",
    "1. Make beer consumption green\n",
    "1. Make daily visitor count red\n",
    "1. Add a legend\n"
   ]
  },
  {
   "cell_type": "code",
   "execution_count": 4,
   "metadata": {
    "ExecuteTime": {
     "end_time": "2020-09-13T19:15:14.468813Z",
     "start_time": "2020-09-13T19:15:14.324004Z"
    },
    "hide_input": false,
    "scrolled": false
   },
   "outputs": [
    {
     "data": {
      "image/png": "[encoded data removed]",
      "text/plain": [
       "<Figure size 432x288 with 1 Axes>"
      ]
     },
     "metadata": {
      "needs_background": "light"
     },
     "output_type": "display_data"
    }
   ],
   "source": [
    "x = df.year # or x = df['year']\n",
    "y1 = df.total_daily_visitors # or y1 = df['total_daily_visitors']\n",
    "y2 = df.beer_consumed # or y2 = df['beer_consumed']\n",
    "\n",
    "plt.plot(x,y1, color='red', label='Daily Visitor Count')\n",
    "plt.plot(x, y2, color='green', label='Liters of Beer')\n",
    "\n",
    "plt.title('Beer Consumed', color='blue')\n",
    "plt.xlabel('Year', color='blue')\n",
    "plt.legend()\n",
    "\n",
    "plt.show()\n"
   ]
  },
  {
   "cell_type": "markdown",
   "metadata": {},
   "source": [
    "# Exercise 3: Bar Chart\n",
    "\n",
    "Using the same Oktoberfest dataset\n",
    "\n",
    "1. Add a column to the dataset that gives the average liters of beer drunk per person per year\n",
    "1. Make a bar plot\n",
    "1. x = year\n",
    "1. y = average liters of beer drunk per person per year\n",
    "1. Add appropriate axis labels and titles in brown\n",
    "1. Make the figure 20 x 5"
   ]
  },
  {
   "cell_type": "code",
   "execution_count": 13,
   "metadata": {
    "ExecuteTime": {
     "end_time": "2020-09-13T19:45:46.736525Z",
     "start_time": "2020-09-13T19:45:46.725236Z"
    },
    "hide_input": false,
    "scrolled": false
   },
   "outputs": [
    {
     "data": {
      "text/html": [
       "<div>\n",
       "<style scoped>\n",
       "    .dataframe tbody tr th:only-of-type {\n",
       "        vertical-align: middle;\n",
       "    }\n",
       "\n",
       "    .dataframe tbody tr th {\n",
       "        vertical-align: top;\n",
       "    }\n",
       "\n",
       "    .dataframe thead th {\n",
       "        text-align: right;\n",
       "    }\n",
       "</style>\n",
       "<table border=\"1\" class=\"dataframe\">\n",
       "  <thead>\n",
       "    <tr style=\"text-align: right;\">\n",
       "      <th></th>\n",
       "      <th>year</th>\n",
       "      <th>duration</th>\n",
       "      <th>total_visitors</th>\n",
       "      <th>total_daily_visitors</th>\n",
       "      <th>beer_price</th>\n",
       "      <th>beer_consumed</th>\n",
       "      <th>chicken_price</th>\n",
       "      <th>chickens_consumed</th>\n",
       "      <th>ltr_person</th>\n",
       "    </tr>\n",
       "  </thead>\n",
       "  <tbody>\n",
       "    <tr>\n",
       "      <th>0</th>\n",
       "      <td>1985</td>\n",
       "      <td>16</td>\n",
       "      <td>7.1</td>\n",
       "      <td>44400</td>\n",
       "      <td>3.20</td>\n",
       "      <td>54541</td>\n",
       "      <td>4.77</td>\n",
       "      <td>629520</td>\n",
       "      <td>1.228401</td>\n",
       "    </tr>\n",
       "    <tr>\n",
       "      <th>1</th>\n",
       "      <td>1986</td>\n",
       "      <td>16</td>\n",
       "      <td>6.7</td>\n",
       "      <td>41900</td>\n",
       "      <td>3.30</td>\n",
       "      <td>53807</td>\n",
       "      <td>3.92</td>\n",
       "      <td>698137</td>\n",
       "      <td>1.284177</td>\n",
       "    </tr>\n",
       "    <tr>\n",
       "      <th>2</th>\n",
       "      <td>1987</td>\n",
       "      <td>16</td>\n",
       "      <td>6.5</td>\n",
       "      <td>40600</td>\n",
       "      <td>3.37</td>\n",
       "      <td>51842</td>\n",
       "      <td>3.98</td>\n",
       "      <td>732859</td>\n",
       "      <td>1.276897</td>\n",
       "    </tr>\n",
       "    <tr>\n",
       "      <th>3</th>\n",
       "      <td>1988</td>\n",
       "      <td>16</td>\n",
       "      <td>5.7</td>\n",
       "      <td>35600</td>\n",
       "      <td>3.45</td>\n",
       "      <td>50951</td>\n",
       "      <td>4.19</td>\n",
       "      <td>720139</td>\n",
       "      <td>1.431208</td>\n",
       "    </tr>\n",
       "    <tr>\n",
       "      <th>4</th>\n",
       "      <td>1989</td>\n",
       "      <td>16</td>\n",
       "      <td>6.2</td>\n",
       "      <td>38800</td>\n",
       "      <td>3.60</td>\n",
       "      <td>51241</td>\n",
       "      <td>4.22</td>\n",
       "      <td>775674</td>\n",
       "      <td>1.320644</td>\n",
       "    </tr>\n",
       "  </tbody>\n",
       "</table>\n",
       "</div>"
      ],
      "text/plain": [
       "   year  duration  total_visitors  total_daily_visitors  beer_price  \\\n",
       "0  1985        16             7.1                 44400        3.20   \n",
       "1  1986        16             6.7                 41900        3.30   \n",
       "2  1987        16             6.5                 40600        3.37   \n",
       "3  1988        16             5.7                 35600        3.45   \n",
       "4  1989        16             6.2                 38800        3.60   \n",
       "\n",
       "   beer_consumed  chicken_price  chickens_consumed  ltr_person  \n",
       "0          54541           4.77             629520    1.228401  \n",
       "1          53807           3.92             698137    1.284177  \n",
       "2          51842           3.98             732859    1.276897  \n",
       "3          50951           4.19             720139    1.431208  \n",
       "4          51241           4.22             775674    1.320644  "
      ]
     },
     "execution_count": 13,
     "metadata": {},
     "output_type": "execute_result"
    }
   ],
   "source": [
    "# for i in range(len(df.year)):\n",
    "#     df.loc[i, 'ltr_person'] = df.loc[i, 'beer_consumed'] / df.loc[i, 'total_daily_visitors']\n",
    "    \n",
    "# or\n",
    "df['ltr_person'] = df['beer_consumed']/df['total_daily_visitors']\n",
    "    \n",
    "df.head()"
   ]
  },
  {
   "cell_type": "code",
   "execution_count": 6,
   "metadata": {
    "ExecuteTime": {
     "end_time": "2020-09-13T19:15:14.691776Z",
     "start_time": "2020-09-13T19:15:14.499902Z"
    },
    "hide_input": false,
    "scrolled": false
   },
   "outputs": [
    {
     "data": {
      "image/png": "[encoded data removed]",
      "text/plain": [
       "<Figure size 1440x360 with 1 Axes>"
      ]
     },
     "metadata": {
      "needs_background": "light"
     },
     "output_type": "display_data"
    }
   ],
   "source": [
    "x = df.year # or df['year']\n",
    "y = df.ltr_person # or df['ltr_person']\n",
    "\n",
    "plt.figure(figsize=(20,5))\n",
    "\n",
    "plt.bar(x, y)\n",
    "\n",
    "plt.title('Liters of Beer Consumed per Person', color='brown')\n",
    "plt.xlabel('Year', color='brown')\n",
    "plt.ylabel('Liters per Person', color='brown')\n",
    "\n",
    "\n",
    "plt.show()"
   ]
  },
  {
   "cell_type": "markdown",
   "metadata": {},
   "source": [
    "# Exercise 4: Histogram\n",
    "\n",
    "Using the same Oktoberfest dataset\n",
    "\n",
    "1. Make a histogram\n",
    "1. x = total daily visitors\n",
    "1. bins = 12\n",
    "1. Make the histogram brown\n",
    "1. Add appropriate labels and titles in red\n",
    "1. Make the figure 20 x 5"
   ]
  },
  {
   "cell_type": "code",
   "execution_count": 7,
   "metadata": {
    "ExecuteTime": {
     "end_time": "2020-09-13T19:15:14.897425Z",
     "start_time": "2020-09-13T19:15:14.693261Z"
    },
    "hide_input": false,
    "scrolled": true
   },
   "outputs": [
    {
     "data": {
      "image/png": "[encoded data removed]",
      "text/plain": [
       "<Figure size 1440x360 with 1 Axes>"
      ]
     },
     "metadata": {
      "needs_background": "light"
     },
     "output_type": "display_data"
    }
   ],
   "source": [
    "plt.figure(figsize=(20,5))\n",
    "\n",
    "plt.hist(df['total_daily_visitors'], color='brown', bins = 12)\n",
    "\n",
    "plt.title('Distribution of Daily Visitors', color='r')\n",
    "plt.xlabel('Total Daily Visitors', color='r')\n",
    "plt.ylabel('Count x1000', color='r')\n",
    "\n",
    "plt.show()"
   ]
  },
  {
   "cell_type": "code",
   "execution_count": null,
   "metadata": {},
   "outputs": [],
   "source": []
  }
 ],
 "metadata": {
  "kernelspec": {
   "display_name": "Python 3",
   "language": "python",
   "name": "python3"
  },
  "language_info": {
   "codemirror_mode": {
    "name": "ipython",
    "version": 3
   },
   "file_extension": ".py",
   "mimetype": "text/x-python",
   "name": "python",
   "nbconvert_exporter": "python",
   "pygments_lexer": "ipython3",
   "version": "3.7.4"
  },
  "toc": {
   "base_numbering": 1,
   "nav_menu": {},
   "number_sections": true,
   "sideBar": true,
   "skip_h1_title": false,
   "title_cell": "Table of Contents",
   "title_sidebar": "Contents",
   "toc_cell": false,
   "toc_position": {},
   "toc_section_display": true,
   "toc_window_display": true
  }
 },
 "nbformat": 4,
 "nbformat_minor": 2
}
