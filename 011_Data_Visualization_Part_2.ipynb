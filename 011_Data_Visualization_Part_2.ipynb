{
 "cells": [
  {
   "cell_type": "markdown",
   "metadata": {
    "ExecuteTime": {
     "end_time": "2019-12-08T16:58:07.584339Z",
     "start_time": "2019-12-08T16:58:07.579653Z"
    }
   },
   "source": [
    "\n",
    "<img src='graphics/visualization_python.png' width= 500>\n",
    "\n",
    ">***Caveat***: Over the last few years, visualization in Python has made major strides forward. It is easy to find some high powered and beautiful visualization libraries for Python on the Internet. We will not look at all of them YET. We need to focus our efforts on learning the basics and the most common data visualization libraries (Matplotlib as the base and Seaborn as the next level up). In time, we will cover many more visualization libraries and techniques. \n",
    "\n",
    "# Data Visualization - Part 2 - Seaborn\n",
    "\n",
    "In our last meet-up, we introduced the Matplotlib library for plotting. While Matplotlib library is robust and allows us to do quite a lot, the plots are not refined and would not be anyone's first choice for publishing. This is where Seaborn comes into the picture.\n",
    "\n",
    ">*Seaborn is a Python data visualization library based upon Matplotlib. It provides a high-level interface for drawing attractive and informative statistical graphics* - Seaborn Documentation\n",
    "\n",
    "**Additional Reading Resources:**\n",
    "1. https://towardsdatascience.com/seaborn-lets-make-plotting-fun-4951b89a0c07\n",
    "1. https://medium.com/@neuralnets/statistical-data-visualization-series-with-python-and-seaborn-for-data-science-5a73b128851d\n",
    "\n",
    "If you are not already a subscriber or follower of ***Medium e-Magazine*** [https://medium.com/], you will want to not only subscribe, but also receive their alerts. They have several sections on \n",
    "1. data science [https://towardsdatascience.com/], \n",
    "1. data visualization [https://towardsdatascience.com/data-visualization/home], and \n",
    "1. machine learning [https://towardsdatascience.com/machine-learning/home]\n",
    "\n",
    "They also cover \n",
    "1. Python programming [https://towardsdatascience.com/search?q=Python]\n",
    "1. Juypter Notebooks [https://towardsdatascience.com/search?q=Jupyter%20Notebook]\n",
    "\n",
    "as well as other related topics. \n",
    "\n",
    "___\n",
    "\n",
    "## Import Data\n",
    "\n",
    "For our exercises in this notebook, we are going to use the **California Housing Dataset** from Kaggle [https://www.kaggle.com/camnugent/california-housing-prices#], which is located in the `data/` sub-directory. \n",
    "\n",
    "Your first step is to \n",
    "1. import the dataset into a DataFrame, which we will call 'df'\n",
    "1. examine the shape of the DataFrame\n",
    "1. examine the column names and the first five (5) rows of the DataFrame\n"
   ]
  },
  {
   "cell_type": "code",
   "execution_count": null,
   "metadata": {
    "ExecuteTime": {
     "end_time": "2019-12-26T19:50:15.356668Z",
     "start_time": "2019-12-26T19:50:15.354325Z"
    }
   },
   "outputs": [],
   "source": [
    "# Write your code here\n",
    "\n"
   ]
  },
  {
   "cell_type": "markdown",
   "metadata": {},
   "source": [
    "# Seaborn\n",
    "\n",
    "## Load the necessary libraries\n",
    "\n",
    "Since Seaborn is based on Matplotlib, we first need to import Matplotlib, then we need to import Seaborn, and because we are working in Jupyter Notebooks, we finish off the libraries load with `%matplotlib inline` so we can see our work.\n",
    "\n",
    "(**Note:** If when you loaded Seaborn you received a pink box with warnings, you can run the warnings block to suppress those warnings in the future of this notebook. Receiving the warnings will not affect anything more than the appearance of your notebook.) "
   ]
  },
  {
   "cell_type": "code",
   "execution_count": null,
   "metadata": {
    "ExecuteTime": {
     "end_time": "2019-12-22T01:36:44.658753Z",
     "start_time": "2019-12-22T01:36:44.277525Z"
    }
   },
   "outputs": [],
   "source": [
    "# Write your code here\n",
    "\n",
    "import matplotlib.pyplot as plt\n",
    "import seaborn as sns\n",
    "\n",
    "\n",
    "# Suppress the warnings we may receive in this example about an update and depreciation\n",
    "import warnings\n",
    "warnings.filterwarnings(\"ignore\")\n",
    "\n",
    "\n",
    "%matplotlib inline"
   ]
  },
  {
   "cell_type": "markdown",
   "metadata": {},
   "source": [
    "## Scatter Plot\n",
    "\n",
    "The scatter plot is used when we want to show the relationship between two features or a feature and a label. The *basic* command for Seaborn is simple. "
   ]
  },
  {
   "cell_type": "code",
   "execution_count": null,
   "metadata": {
    "ExecuteTime": {
     "end_time": "2019-12-22T01:36:44.914605Z",
     "start_time": "2019-12-22T01:36:44.661686Z"
    }
   },
   "outputs": [],
   "source": [
    "sns.scatterplot(data=df, x='total_rooms', y='total_bedrooms')\n",
    "plt.show()"
   ]
  },
  {
   "cell_type": "markdown",
   "metadata": {},
   "source": [
    "### A Few Aesthetics\n",
    "\n",
    "Plotting a basic scatter plot is simple enough, but let's add in some additional aestheics and information to our plot in order to really bring out the power of Seaborn.\n",
    "\n",
    "1. Let's increase the size of the plot so it is a bit easier to see.\n",
    "1. Let's make the size of each dot based upon 'median_house_value' (bringing in another data value)\n",
    "1. Color the dots based upon 'ocean_proximity'\n",
    "1. And base the style of the markers based upon 'ocean_proximity'\n",
    "1. Add main and axes titles"
   ]
  },
  {
   "cell_type": "code",
   "execution_count": null,
   "metadata": {
    "ExecuteTime": {
     "end_time": "2019-12-22T01:36:45.727122Z",
     "start_time": "2019-12-22T01:36:44.916524Z"
    }
   },
   "outputs": [],
   "source": [
    "plt.figure(figsize=(12,8)) #Sets a new figure size away from the default\n",
    "\n",
    "sns.scatterplot(data = df, # Calls the data source\n",
    "               x = 'total_rooms', # Declares x\n",
    "               y = 'total_bedrooms',# Declares y\n",
    "               hue = 'ocean_proximity',# Declares another variable by color\n",
    "               style = 'ocean_proximity')# Declares another variable by shape\n",
    "\n",
    "# Add some clarifying features\n",
    "plt.title('California Rooms vs Bedrooms')\n",
    "plt.xlabel('Total Rooms sq ft')\n",
    "plt.ylabel('Total Bedrooms sq ft')\n",
    "plt.show()"
   ]
  },
  {
   "cell_type": "markdown",
   "metadata": {},
   "source": [
    "## Bar Plot (or Count Plot)\n",
    "\n",
    "Bar plots, sometimes called a Count plot, automatically count the data points based upon a certain categorical column and present the data as a bar plot. Bar or Count plots are used when you are totalling the count of observations within a category or condition. "
   ]
  },
  {
   "cell_type": "code",
   "execution_count": null,
   "metadata": {
    "ExecuteTime": {
     "end_time": "2019-12-22T01:36:45.863622Z",
     "start_time": "2019-12-22T01:36:45.728776Z"
    }
   },
   "outputs": [],
   "source": [
    "#Basic count plot (bar chart) with external labels\n",
    "\n",
    "plt.figure(figsize = (12, 8)) #Establish the size of the graphic\n",
    "\n",
    "sns.countplot(data = df, x = 'ocean_proximity')# Actual line that draws the count plot\n",
    "\n",
    "\n",
    "#Adding some clarifying elements\n",
    "plt.title(\"Count of houses based on their proximity to ocean\")\n",
    "plt.xlabel(\"Proximity to the ocean\")\n",
    "plt.ylabel(\"Count of houses\")\n",
    "plt.show()"
   ]
  },
  {
   "cell_type": "markdown",
   "metadata": {
    "ExecuteTime": {
     "end_time": "2019-12-08T20:11:07.371241Z",
     "start_time": "2019-12-08T20:11:07.367427Z"
    }
   },
   "source": [
    "Simple to do, as you can see. But what if we want to add the count to the ends of each of the bars (that is always a good idea for clarity in our graphics). In the next block of code, we will do that. "
   ]
  },
  {
   "cell_type": "code",
   "execution_count": null,
   "metadata": {
    "ExecuteTime": {
     "end_time": "2019-12-22T01:36:46.009654Z",
     "start_time": "2019-12-22T01:36:45.864899Z"
    }
   },
   "outputs": [],
   "source": [
    "plt.figure(figsize = (12, 8))# Adjust the figure size\n",
    "\n",
    "#Draw the actual plot and assign that action to the variable 'ocean_plot'\n",
    "ocean_plot = sns.countplot(data = df, x = 'ocean_proximity')  \n",
    "\n",
    "'''\n",
    "The next FOR loop establishes the location for placing the counts, then places those counts centered at\n",
    "the end of each bar respectively. \n",
    "\n",
    "'''\n",
    "\n",
    "for p in ocean_plot.patches:# patches are a library of commands for aesthetics in plots\n",
    "    ocean_plot.annotate(p.get_height(), \n",
    "                        (p.get_x() + p.get_width() / 2.0, \n",
    "                         p.get_height()), #Setting width of bars so they are proportional\n",
    "                        ha = 'center', #horizontal axis\n",
    "                        va = 'center', # vertical axis\n",
    "                        xytext = (0, 5), # placing the text\n",
    "                        textcoords = 'offset points')\n",
    "\n",
    "    \n",
    "    # And, of course, we add our clarifying features (labels)\n",
    "plt.title(\"Count of houses based on their proximity to ocean\")\n",
    "plt.xlabel(\"Proximity to the ocean\")\n",
    "plt.ylabel(\"Count of houses\")\n",
    "plt.show()"
   ]
  },
  {
   "cell_type": "markdown",
   "metadata": {
    "ExecuteTime": {
     "end_time": "2019-12-08T20:12:39.480621Z",
     "start_time": "2019-12-08T20:12:39.349066Z"
    }
   },
   "source": [
    "So we don't rush over the code to add the count to the ends of each column, let's take a moment and run just the FOR loop, printing out the 'p' variable to see what is 'p'. Remember that 'p' will be used in the following annotation set-ip\n",
    "\n",
    ">ocean_plot.annotate(p.get_height(), \n",
    "                        (p.get_x() + p.get_width() / 2.0, \n",
    "                        p.get_height()), \n",
    "                        ha = 'center', \n",
    "                        va = 'center', \n",
    "                        xytext = (0, 5),\n",
    "                        textcoords = 'offset points')"
   ]
  },
  {
   "cell_type": "code",
   "execution_count": null,
   "metadata": {
    "ExecuteTime": {
     "end_time": "2019-12-22T01:36:46.014706Z",
     "start_time": "2019-12-22T01:36:46.011295Z"
    }
   },
   "outputs": [],
   "source": [
    "for p in ocean_plot.patches:\n",
    "    print(p)"
   ]
  },
  {
   "cell_type": "markdown",
   "metadata": {},
   "source": [
    "## Histograms\n",
    "\n",
    "Histograms are an effective way to show continuous points of data and see how they are distributed. The `dist` plot in Seaborn produces both a histogram as well as a density line on that plot based on the data. \n",
    "\n",
    "Since Histograms require us to define the number of total sorting bins, we defined a total number of 10 bins for `median_house_value` ."
   ]
  },
  {
   "cell_type": "code",
   "execution_count": null,
   "metadata": {
    "ExecuteTime": {
     "end_time": "2019-12-22T01:36:58.526512Z",
     "start_time": "2019-12-22T01:36:58.342602Z"
    }
   },
   "outputs": [],
   "source": [
    "#Set the figsize to a 12x8 so it is clearly visible\n",
    "plt.figure(figsize = (12, 8))\n",
    "\n",
    "#The actual line of code that draws the historgram\n",
    "sns.distplot(a = df['median_house_value'], \n",
    "             bins = 10, \n",
    "             hist = True,\n",
    "             kde = True)\n",
    "\n",
    "#Adding some clarifying features (labels)\n",
    "plt.title(\"Density and histogram plot for Median house value\")\n",
    "plt.xlabel(\"Median house value\")\n",
    "plt.ylabel(\"Value\")\n",
    "plt.show()"
   ]
  },
  {
   "cell_type": "markdown",
   "metadata": {},
   "source": [
    "Quite simple. But let's add a little color and pleasing aestheics to our Histogram. \n",
    "1. Change the color of our Histgram to 'red'\n",
    "1. Add borders to each bin\n"
   ]
  },
  {
   "cell_type": "code",
   "execution_count": null,
   "metadata": {
    "ExecuteTime": {
     "end_time": "2019-12-16T20:43:18.061517Z",
     "start_time": "2019-12-16T20:43:17.890248Z"
    }
   },
   "outputs": [],
   "source": [
    "#Set the figsize to a 12x8 so it is clearly visible\n",
    "plt.figure(figsize = (12, 8))\n",
    "\n",
    "#The actual line of code that draws the historgram\n",
    "sns.distplot(a = df['median_house_value'], \n",
    "             bins = 10, \n",
    "             hist = True,\n",
    "             color='r',\n",
    "             hist_kws=dict(edgecolor='k', linewidth=1))\n",
    "\n",
    "#Adding some clarifying features (labels)\n",
    "plt.title(\"Density and histogram plot for Median house value\")\n",
    "plt.xlabel(\"Median house value\")\n",
    "plt.ylabel(\"Value\")\n",
    "plt.show()"
   ]
  },
  {
   "cell_type": "markdown",
   "metadata": {},
   "source": [
    "## Boxplot\n",
    "A boxplot is a standardized way of displaying the distribution of data based on a five number summary (“minimum”, first quartile (Q1), median, third quartile (Q3), and “maximum”). It can tell you about your outliers and what their values are. It can also tell you if your data is symmetrical, how tightly your data is grouped, and if and how your data is skewed.\n",
    "\n",
    "<img src='graphics/boxplot_explained.png'>"
   ]
  },
  {
   "cell_type": "code",
   "execution_count": null,
   "metadata": {
    "ExecuteTime": {
     "end_time": "2019-12-16T20:43:18.271840Z",
     "start_time": "2019-12-16T20:43:18.063378Z"
    }
   },
   "outputs": [],
   "source": [
    "plt.figure(figsize = (12, 8))\n",
    "\n",
    "\n",
    "sns.boxplot(x = 'ocean_proximity', \n",
    "            y = 'median_house_value',\n",
    "            data = df,  \n",
    "              )\n",
    "\n",
    "\n",
    "plt.title(\"Box plots of house values based on ocean proximity\")\n",
    "plt.xlabel(\"Ocean proximity\")\n",
    "plt.ylabel(\"Median house value\")\n",
    "plt.show()"
   ]
  },
  {
   "cell_type": "markdown",
   "metadata": {},
   "source": [
    "## Violin Plot\n",
    "\n",
    "For most people, a Violin Plot is an obscure, strange looking, never used plot. I believe this would not be the case if Excel had violin plots as a part of the standard selection. But because of this, and their strange look, we rarely see these plots outside of more serious Data Science. \n",
    "\n",
    "Violin plots are another representation of the distribution of a set of observations.\n",
    "\n",
    "Let's look at how to draw a violin plot first, then we will discuss how to read it (which is quite simple). After that, we will discuss how easy it makes comparing values."
   ]
  },
  {
   "cell_type": "code",
   "execution_count": null,
   "metadata": {
    "ExecuteTime": {
     "end_time": "2019-12-16T20:43:18.502797Z",
     "start_time": "2019-12-16T20:43:18.273676Z"
    }
   },
   "outputs": [],
   "source": [
    "\n",
    "plt.figure(figsize = (12, 8))# Set the figure size\n",
    "\n",
    "\n",
    "sns.violinplot(data = df, #Set the data source\n",
    "               x = 'ocean_proximity', #Set the x variable\n",
    "               y = 'median_house_value', #Set the y variable\n",
    "              )\n",
    "\n",
    "#Add clarifying features\n",
    "plt.title(\"Violin plots of house values based on ocean proximity\")\n",
    "plt.xlabel(\"Ocean proximity\")\n",
    "plt.ylabel(\"Median house value\")\n",
    "plt.show()"
   ]
  },
  {
   "cell_type": "markdown",
   "metadata": {},
   "source": [
    "Before we move ahead, let’s talk about how to understand these plots. \n",
    "\n",
    "Consider the green plot `INLAND`. \n",
    "1. The black line that extends from zero to approximately 250000 is the 95% confidence interval. \n",
    "1. The thick black block inside is the interquartile range meaning approximately 50% of all data lies in this range. \n",
    "1. The width of the plot is based on the density of the data. \n",
    "\n",
    "We can understand it as the histogram of this specific dataset with the black line as the x-axis that is completely smoothed out and turned 90 degrees."
   ]
  },
  {
   "cell_type": "markdown",
   "metadata": {},
   "source": [
    "## Heatmap or Correlation Matrix\n",
    "\n",
    "I have to admit that a Heatmap (or, more appropriately, a Correlation Matrix) is one of my favorite graphics. It is also my first go-to graphics for conducting an Exploratory Data Analysis (EDA) on data sets with a considerable number of quantitative categories. \n",
    "\n",
    "A correlation matrix helps us see how all features and labels are related to one another and the level of dependance. \n",
    "\n",
    "The Pandas DataFrame has a function called `corr()`, which generates a correlation matrix. When we input that Pandas correlation matrix to the Seaborn heatmap, we get a beautiful heatmap. \n",
    "\n",
    "Setting `annot` as **True** ensures that the correlations are also defined with numbers."
   ]
  },
  {
   "cell_type": "code",
   "execution_count": null,
   "metadata": {
    "ExecuteTime": {
     "end_time": "2019-12-16T20:43:18.925128Z",
     "start_time": "2019-12-16T20:43:18.504781Z"
    }
   },
   "outputs": [],
   "source": [
    "\n",
    "plt.figure(figsize = (15,10))#Set the figure Size\n",
    "\n",
    "\n",
    "sns.heatmap(df.corr(), annot = True)#Note the .corr()\n",
    "plt.show()"
   ]
  },
  {
   "cell_type": "markdown",
   "metadata": {},
   "source": [
    "**NOTE**: *Do you see how the top and bottom rows in the correlation matrix are cut off? This was a `matplotlib` regression introduced in version 3.1.1, which has been fixed in version 3.1.2 (still forthcoming). For now the fix is to downgrade `matplotlib` to a prior version, unless you can live with this for a few more months until the fix is available.*"
   ]
  },
  {
   "cell_type": "markdown",
   "metadata": {},
   "source": [
    "## Joint Plot\n",
    "\n",
    "A Joint Plot is a combination of scatter plot along with the density plots (histograms) for both features we’re trying to plot. \n",
    "\n",
    "The Seaborn’s Joint Plot allows us to even plot a linear regression all by itself using `kind` as `reg`. \n",
    "\n",
    "We defined the square dimensions using height as 8 and color as green.\n",
    "\n",
    "### JointPlot Regression"
   ]
  },
  {
   "cell_type": "code",
   "execution_count": null,
   "metadata": {
    "ExecuteTime": {
     "end_time": "2019-12-16T20:43:40.970667Z",
     "start_time": "2019-12-16T20:43:39.263989Z"
    }
   },
   "outputs": [],
   "source": [
    "\n",
    "plt.figure(figsize=(12,10))# Set the figure size larger than default\n",
    "\n",
    "sns.jointplot(data=df, #Declare the dataset\n",
    "              x = \"total_rooms\", #Declare the x value\n",
    "              y = \"total_bedrooms\", #Declare the y value\n",
    "              kind=\"reg\", #kind = regression\n",
    "              height = 10, #Set the height of the plot\n",
    "              color = 'g',#Set the color as green\n",
    "             )\n",
    "\n",
    "#Add some clarifying aspects\n",
    "plt.title('Joint Plot')\n",
    "plt.xlabel(\"Total rooms\")\n",
    "plt.ylabel(\"Total bedrooms\")\n",
    "plt.show()"
   ]
  },
  {
   "cell_type": "markdown",
   "metadata": {},
   "source": [
    "### Joint Plot Scatter"
   ]
  },
  {
   "cell_type": "code",
   "execution_count": null,
   "metadata": {
    "ExecuteTime": {
     "end_time": "2019-12-16T20:45:16.187701Z",
     "start_time": "2019-12-16T20:45:15.264457Z"
    }
   },
   "outputs": [],
   "source": [
    "plt.figure(figsize=(12,10))# Set the figure size larger than default\n",
    "\n",
    "sns.jointplot(data=df, #Declare the dataset\n",
    "              x = \"total_rooms\", #Declare the x value\n",
    "              y = \"total_bedrooms\", #Declare the y value\n",
    "              kind=\"scatter\", #kind = scatter\n",
    "              height = 10, #Set the height of the plot\n",
    "              color = 'g',#Set the color as green\n",
    "             )\n",
    "\n",
    "#Add some clarifying aspects\n",
    "plt.title('Joint Plot')\n",
    "plt.xlabel(\"Total rooms\")\n",
    "plt.ylabel(\"Total bedrooms\")\n",
    "plt.show()"
   ]
  },
  {
   "cell_type": "markdown",
   "metadata": {},
   "source": [
    "## Pairplot\n",
    "\n",
    "A Pairplot is another one of my immediate go-to plots for EDAs (Exploratory Data Analyses). A pair plot takes every numeric category in our dataset and plots that value against every other numeric value. \n",
    "\n",
    "In one plot, we see trends and patterns quite easily. "
   ]
  },
  {
   "cell_type": "code",
   "execution_count": null,
   "metadata": {
    "ExecuteTime": {
     "end_time": "2019-12-16T20:10:42.812875Z",
     "start_time": "2019-12-16T20:10:08.237990Z"
    },
    "scrolled": false
   },
   "outputs": [],
   "source": [
    "sns.pairplot(df, \n",
    "            hue = 'ocean_proximity',# Declares another variable by color (not necessary)\n",
    "            kind = 'scatter', #Scatter representation is the default. You don't need to declare it. \n",
    "            )\n",
    "plt.show()"
   ]
  },
  {
   "cell_type": "code",
   "execution_count": null,
   "metadata": {
    "ExecuteTime": {
     "end_time": "2019-12-16T20:13:03.282450Z",
     "start_time": "2019-12-16T20:10:42.814516Z"
    }
   },
   "outputs": [],
   "source": [
    "sns.pairplot(df, \n",
    "            hue = 'ocean_proximity',# Declares another variable by color (not necessary)\n",
    "            kind = 'reg', #reg representation gives you the regression line. You need to declare it. \n",
    "            )\n",
    "plt.show()"
   ]
  },
  {
   "cell_type": "markdown",
   "metadata": {},
   "source": [
    "## Swarmplot\n",
    "\n",
    "A Swarmplot is a scatter plot where the *x* axis is a categorical value. "
   ]
  },
  {
   "cell_type": "code",
   "execution_count": null,
   "metadata": {
    "ExecuteTime": {
     "end_time": "2019-12-16T19:03:11.760054Z",
     "start_time": "2019-12-16T19:03:11.569945Z"
    }
   },
   "outputs": [],
   "source": [
    "# Load a built in Dataset\n",
    "iris = sns.load_dataset('iris')\n",
    "\n",
    "sns.swarmplot(data = iris, \n",
    "               x = 'species', \n",
    "               y = 'petal_length', \n",
    "             )\n",
    "plt.show()"
   ]
  },
  {
   "cell_type": "code",
   "execution_count": null,
   "metadata": {
    "ExecuteTime": {
     "end_time": "2019-12-16T19:03:11.868953Z",
     "start_time": "2019-12-16T19:03:11.761825Z"
    }
   },
   "outputs": [],
   "source": [
    "sns.scatterplot(data = iris, \n",
    "               x = 'species', \n",
    "               y = 'petal_length', \n",
    "               )\n",
    "\n",
    "plt.show()"
   ]
  },
  {
   "cell_type": "markdown",
   "metadata": {},
   "source": [
    "# Charts Starter\n",
    "\n",
    "We have covered quite a few different plots and charts in this and the previous lesson. We have attempted to define what they are and when to use them, but we recognize this may still be confusing. \n",
    "\n",
    "The following chart is a start in understanding what charts and plots to use given what you are trying to do. This chart comes from [https://flowingdata.com/2009/01/15/flow-chart-shows-you-what-chart-to-use/]. It is not exhaustive, and it does not cover all of the charts/plots which we have covered in our last two meet-ups. However, it will help to organize your thoughts around charts and plots. It will also serve as a good basis for you to begin developing your own cheat sheet on charts and plots. \n",
    "\n",
    "<img src='graphics/chart-chart1.jpg'>"
   ]
  },
  {
   "cell_type": "markdown",
   "metadata": {},
   "source": [
    "# Exercises\n",
    "\n",
    "Let's practice some of what we have learned.\n",
    "\n",
    "## Load the Data Set\n",
    "\n",
    "First,\n",
    "1. Let's load our needed libraries\n",
    "1. Let's load the 'ames.csv' dataset (located in the data folder) into a DataFrame\n",
    "1. Then take a look at the dataset's features to become familiar with them"
   ]
  },
  {
   "cell_type": "code",
   "execution_count": null,
   "metadata": {
    "ExecuteTime": {
     "end_time": "2019-12-26T19:51:09.079929Z",
     "start_time": "2019-12-26T19:51:09.077626Z"
    }
   },
   "outputs": [],
   "source": [
    "# Write your code here\n",
    "\n"
   ]
  },
  {
   "cell_type": "markdown",
   "metadata": {},
   "source": [
    "## First Plot\n",
    "\n",
    "Next, \n",
    "1. Plot 'Lot.Area' against 'MS.Zoning'\n",
    "1. Select the plot that you believe best suits the needs for this representation\n",
    "\n",
    "(Don't forget to add clarifying features.)"
   ]
  },
  {
   "cell_type": "code",
   "execution_count": null,
   "metadata": {
    "ExecuteTime": {
     "end_time": "2019-12-26T19:51:24.223115Z",
     "start_time": "2019-12-26T19:51:24.219969Z"
    }
   },
   "outputs": [],
   "source": [
    "# Write your code here\n",
    "\n"
   ]
  },
  {
   "cell_type": "code",
   "execution_count": null,
   "metadata": {
    "ExecuteTime": {
     "end_time": "2019-12-26T19:51:44.907432Z",
     "start_time": "2019-12-26T19:51:44.905348Z"
    }
   },
   "outputs": [],
   "source": [
    "# Write your code here\n",
    "\n",
    "\n"
   ]
  },
  {
   "cell_type": "code",
   "execution_count": null,
   "metadata": {
    "ExecuteTime": {
     "end_time": "2019-12-26T19:52:37.625496Z",
     "start_time": "2019-12-26T19:52:37.623302Z"
    }
   },
   "outputs": [],
   "source": [
    "# Write your code here\n",
    "\n"
   ]
  },
  {
   "cell_type": "markdown",
   "metadata": {},
   "source": [
    "## Second Plot\n",
    "\n",
    "Next, we want to look at the relationship between 'SalePrice' and 'Lot.Area'. We are interested in seeing if there is a correlation between the two and what the distribution is for this relationship. Make sure to make the plot large enough to see clearly. And make the color of the plot blue."
   ]
  },
  {
   "cell_type": "code",
   "execution_count": null,
   "metadata": {
    "ExecuteTime": {
     "end_time": "2019-12-26T19:53:09.779627Z",
     "start_time": "2019-12-26T19:53:09.776995Z"
    }
   },
   "outputs": [],
   "source": [
    "# Write your code here\n",
    "\n"
   ]
  }
 ],
 "metadata": {
  "kernelspec": {
   "display_name": "Python 3",
   "language": "python",
   "name": "python3"
  },
  "language_info": {
   "codemirror_mode": {
    "name": "ipython",
    "version": 3
   },
   "file_extension": ".py",
   "mimetype": "text/x-python",
   "name": "python",
   "nbconvert_exporter": "python",
   "pygments_lexer": "ipython3",
   "version": "3.7.4"
  },
  "toc": {
   "base_numbering": 1,
   "nav_menu": {},
   "number_sections": true,
   "sideBar": true,
   "skip_h1_title": false,
   "title_cell": "Table of Contents",
   "title_sidebar": "Contents",
   "toc_cell": false,
   "toc_position": {},
   "toc_section_display": true,
   "toc_window_display": true
  }
 },
 "nbformat": 4,
 "nbformat_minor": 2
}
