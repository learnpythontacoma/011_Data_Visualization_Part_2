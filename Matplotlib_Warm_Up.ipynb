{
 "cells": [
  {
   "cell_type": "markdown",
   "metadata": {},
   "source": [
    "<img src='graphics/Oktoberfest.jpg'>\n",
    "\n",
    "# Matplotlib Practice Exercises\n",
    "\n",
    "In the next block, \n",
    "1. Import our Pandas library\n",
    "1. Import 'data/oktoberfest_english.csv' to a DataFrame\n",
    "1. Check the shape of the DataFrame\n",
    "1. Check the first five rows of our DataFrame"
   ]
  },
  {
   "cell_type": "code",
   "execution_count": null,
   "metadata": {
    "ExecuteTime": {
     "end_time": "2020-01-18T21:10:29.050025Z",
     "start_time": "2020-01-18T21:10:29.034612Z"
    }
   },
   "outputs": [],
   "source": []
  },
  {
   "cell_type": "markdown",
   "metadata": {},
   "source": [
    "Let's clean up the dataset by multiplying each entry for 'total_daily_visitors' by 100 so the numbers are accurate. "
   ]
  },
  {
   "cell_type": "code",
   "execution_count": null,
   "metadata": {
    "ExecuteTime": {
     "end_time": "2020-01-18T21:10:29.075318Z",
     "start_time": "2020-01-18T21:10:29.051674Z"
    }
   },
   "outputs": [],
   "source": []
  },
  {
   "cell_type": "markdown",
   "metadata": {
    "ExecuteTime": {
     "end_time": "2020-01-18T20:32:37.226636Z",
     "start_time": "2020-01-18T20:32:37.223535Z"
    }
   },
   "source": [
    "# Exercise 1: Simple Line Chart\n",
    "\n",
    "Using the oktoberfest_english.csv data that you just loaded, \n",
    "1. Make a simple line plot\n",
    "1. x = year\n",
    "1. y = chickens consumed\n",
    "1. Add appropriate main and axes titles"
   ]
  },
  {
   "cell_type": "code",
   "execution_count": null,
   "metadata": {
    "ExecuteTime": {
     "end_time": "2020-01-18T21:10:29.195023Z",
     "start_time": "2020-01-18T21:10:29.076792Z"
    }
   },
   "outputs": [],
   "source": []
  },
  {
   "cell_type": "markdown",
   "metadata": {},
   "source": [
    "# Exercise 2: Making it Pretty\n",
    "\n",
    "Using the same Oktoberfest data, \n",
    "1. Make a line plot\n",
    "1. x = year\n",
    "1. y = beer consumed & daily visitor count\n",
    "1. Add appropriate main and axes titles (make the titles blue)\n",
    "1. Make beer consumption green\n",
    "1. Make daily visitor count red\n",
    "1. Add a legend\n"
   ]
  },
  {
   "cell_type": "code",
   "execution_count": null,
   "metadata": {
    "ExecuteTime": {
     "end_time": "2020-01-18T21:10:29.330008Z",
     "start_time": "2020-01-18T21:10:29.196792Z"
    }
   },
   "outputs": [],
   "source": []
  },
  {
   "cell_type": "markdown",
   "metadata": {},
   "source": [
    "# Exercise 3: Bar Chart\n",
    "\n",
    "Using the same Oktoberfest dataset\n",
    "\n",
    "1. Add a column to the dataset that gives the average liters of beer drunk per person per year\n",
    "1. Make a bar plot\n",
    "1. x = year\n",
    "1. y = average liters of beer drunk per person per year\n",
    "1. Add appropriate axis labels and titles in brown\n",
    "1. Make the figure 20 x 5"
   ]
  },
  {
   "cell_type": "code",
   "execution_count": null,
   "metadata": {
    "ExecuteTime": {
     "end_time": "2020-01-18T21:12:16.746926Z",
     "start_time": "2020-01-18T21:12:16.718405Z"
    }
   },
   "outputs": [],
   "source": []
  },
  {
   "cell_type": "code",
   "execution_count": null,
   "metadata": {
    "ExecuteTime": {
     "end_time": "2020-01-18T21:12:27.407346Z",
     "start_time": "2020-01-18T21:12:27.066398Z"
    }
   },
   "outputs": [],
   "source": []
  },
  {
   "cell_type": "markdown",
   "metadata": {},
   "source": [
    "# Exercise 4: Histogram\n",
    "\n",
    "Using the same Oktoberfest dataset\n",
    "\n",
    "1. Make a histogram\n",
    "1. x = total daily visitors\n",
    "1. bins = 12\n",
    "1. Make the histogram brown\n",
    "1. Add appropriate labels and titles in red\n",
    "1. Make the figure 20 x 5"
   ]
  },
  {
   "cell_type": "code",
   "execution_count": null,
   "metadata": {
    "ExecuteTime": {
     "end_time": "2020-01-18T21:20:57.569505Z",
     "start_time": "2020-01-18T21:20:57.425171Z"
    }
   },
   "outputs": [],
   "source": []
  },
  {
   "cell_type": "code",
   "execution_count": null,
   "metadata": {},
   "outputs": [],
   "source": []
  }
 ],
 "metadata": {
  "kernelspec": {
   "display_name": "Python 3",
   "language": "python",
   "name": "python3"
  },
  "language_info": {
   "codemirror_mode": {
    "name": "ipython",
    "version": 3
   },
   "file_extension": ".py",
   "mimetype": "text/x-python",
   "name": "python",
   "nbconvert_exporter": "python",
   "pygments_lexer": "ipython3",
   "version": "3.7.4"
  },
  "toc": {
   "base_numbering": 1,
   "nav_menu": {},
   "number_sections": true,
   "sideBar": true,
   "skip_h1_title": false,
   "title_cell": "Table of Contents",
   "title_sidebar": "Contents",
   "toc_cell": false,
   "toc_position": {},
   "toc_section_display": true,
   "toc_window_display": true
  }
 },
 "nbformat": 4,
 "nbformat_minor": 2
}
